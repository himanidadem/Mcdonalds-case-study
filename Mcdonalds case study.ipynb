{
 "cells": [
  {
   "cell_type": "markdown",
   "id": "65423910",
   "metadata": {},
   "source": [
    "## Loading the data"
   ]
  },
  {
   "cell_type": "code",
   "execution_count": 26,
   "id": "eb1d0d11",
   "metadata": {},
   "outputs": [],
   "source": [
    "import pandas as pd\n",
    "import numpy as np\n",
    "from sklearn.decomposition import PCA\n",
    "import matplotlib.pyplot as plt\n",
    "import random\n",
    "from sklearn.cluster import KMeans\n",
    "from sklearn.metrics import silhouette_score\n",
    "import random\n",
    "from sklearn.cluster import KMeans\n",
    "from sklearn.utils import resample\n",
    "from sklearn.metrics import adjusted_rand_score\n",
    "import matplotlib.pyplot as plt\n"
   ]
  },
  {
   "cell_type": "code",
   "execution_count": 7,
   "id": "4101cb75",
   "metadata": {
    "scrolled": true
   },
   "outputs": [
    {
     "name": "stdout",
     "output_type": "stream",
     "text": [
      "Index(['yummy', 'convenient', 'spicy', 'fattening', 'greasy', 'fast', 'cheap',\n",
      "       'tasty', 'expensive', 'healthy', 'disgusting', 'Like', 'Age',\n",
      "       'VisitFrequency', 'Gender'],\n",
      "      dtype='object')\n"
     ]
    }
   ],
   "source": [
    "mcdonalds = pd.read_csv('https://homepage.boku.ac.at/leisch/MSA/datasets/mcdonalds.csv')\n",
    "print(mcdonalds.columns)"
   ]
  },
  {
   "cell_type": "markdown",
   "id": "955a5b18",
   "metadata": {},
   "source": [
    "## Exploring Data"
   ]
  },
  {
   "cell_type": "code",
   "execution_count": 8,
   "id": "25598d05",
   "metadata": {},
   "outputs": [
    {
     "name": "stdout",
     "output_type": "stream",
     "text": [
      "(1453, 15)\n"
     ]
    }
   ],
   "source": [
    "print(mcdonalds.shape)"
   ]
  },
  {
   "cell_type": "code",
   "execution_count": 9,
   "id": "b0d484fd",
   "metadata": {
    "scrolled": true
   },
   "outputs": [
    {
     "name": "stdout",
     "output_type": "stream",
     "text": [
      "  yummy convenient spicy fattening greasy fast cheap tasty expensive healthy  \\\n",
      "0    No        Yes    No       Yes     No  Yes   Yes    No       Yes      No   \n",
      "1   Yes        Yes    No       Yes    Yes  Yes   Yes   Yes       Yes      No   \n",
      "2    No        Yes   Yes       Yes    Yes  Yes    No   Yes       Yes     Yes   \n",
      "\n",
      "  disgusting Like  Age      VisitFrequency  Gender  \n",
      "0         No   -3   61  Every three months  Female  \n",
      "1         No   +2   51  Every three months  Female  \n",
      "2         No   +1   62  Every three months  Female  \n"
     ]
    }
   ],
   "source": [
    "print(mcdonalds.head(3))"
   ]
  },
  {
   "cell_type": "code",
   "execution_count": 10,
   "id": "3a108ee7",
   "metadata": {},
   "outputs": [
    {
     "name": "stdout",
     "output_type": "stream",
     "text": [
      "[0.55 0.91 0.09 0.87 0.53 0.9  0.6  0.64 0.36 0.2  0.24]\n"
     ]
    }
   ],
   "source": [
    "MD_x = mcdonalds.iloc[:, 0:11]\n",
    "MD_x = (MD_x == \"Yes\").astype(int)\n",
    "MD_x = MD_x.values\n",
    "print(np.round(MD_x.mean(axis = 0), 2))"
   ]
  },
  {
   "cell_type": "code",
   "execution_count": 11,
   "id": "34982c74",
   "metadata": {},
   "outputs": [
    {
     "name": "stdout",
     "output_type": "stream",
     "text": [
      "[0.29944723 0.19279721 0.13304535 0.08309578 0.05948052 0.05029956\n",
      " 0.0438491  0.03954779 0.0367609  0.03235329 0.02932326]\n"
     ]
    }
   ],
   "source": [
    "MD_pca = PCA()\n",
    "MD_pca.fit(MD_x)\n",
    "print(MD_pca.explained_variance_ratio_)"
   ]
  },
  {
   "cell_type": "code",
   "execution_count": 12,
   "id": "0e8f09d7",
   "metadata": {},
   "outputs": [
    {
     "name": "stdout",
     "output_type": "stream",
     "text": [
      "PCA()\n"
     ]
    }
   ],
   "source": [
    "print(MD_pca)"
   ]
  },
  {
   "cell_type": "code",
   "execution_count": 14,
   "id": "9f8437e7",
   "metadata": {},
   "outputs": [
    {
     "data": {
      "image/png": "[encoded data removed]",
      "text/plain": [
       "<Figure size 432x288 with 1 Axes>"
      ]
     },
     "metadata": {
      "needs_background": "light"
     },
     "output_type": "display_data"
    }
   ],
   "source": [
    "\n",
    "# to get the predicted cluster labels from PCA model\n",
    "clusters = MD_pca.transform(MD_x)\n",
    "plt.scatter(clusters[:, 0], clusters[:, 1], c='grey')\n",
    "plt.xlabel('PC1')\n",
    "plt.ylabel('PC2')\n",
    "plt.show()"
   ]
  },
  {
   "cell_type": "markdown",
   "id": "46836033",
   "metadata": {},
   "source": [
    "## Extracting segments"
   ]
  },
  {
   "cell_type": "code",
   "execution_count": 15,
   "id": "2edae7e6",
   "metadata": {},
   "outputs": [],
   "source": [
    "random.seed(1234)\n",
    "\n",
    "clusters = range(2,9)\n",
    "MD_km28 = []\n",
    "for k in clusters:\n",
    "    kmeans = KMeans(n_clusters=k, n_init = 10, random_state = 1234)\n",
    "    kmeans.fit(MD_x)\n",
    "    MD_km28.append(kmeans)"
   ]
  },
  {
   "cell_type": "code",
   "execution_count": 19,
   "id": "93298225",
   "metadata": {},
   "outputs": [
    {
     "data": {
      "image/png": "[encoded data removed]",
      "text/plain": [
       "<Figure size 432x288 with 1 Axes>"
      ]
     },
     "metadata": {
      "needs_background": "light"
     },
     "output_type": "display_data"
    }
   ],
   "source": [
    "scores = []\n",
    "for k in clusters:\n",
    "    kmeans = MD_km28[k-2]\n",
    "    preds = kmeans.predict(MD_x)\n",
    "    score = silhouette_score(MD_x, preds)\n",
    "    scores.append(score)\n",
    "\n",
    "plt.plot(clusters, scores)\n",
    "plt.xlabel('Number of segments')\n",
    "plt.ylabel('Silhouette score')\n",
    "plt.show()\n"
   ]
  },
  {
   "cell_type": "code",
   "execution_count": 34,
   "id": "d9cddc43",
   "metadata": {},
   "outputs": [],
   "source": [
    "random.seed(1234)\n",
    "\n",
    "clusters = range(2,9)\n",
    "MD_b28 = []\n",
    "for k in clusters:\n",
    "    kmeans = KMeans(n_clusters=k, n_init = 10, random_state = 1234)\n",
    "    scores = []\n",
    "    for i in range(100):\n",
    "        X_resampled= resample(MD_x, n_samples=len(MD_x))\n",
    "        kmeans.fit(X_resampled)\n",
    "        preds = kmeans.predict(X_resampled)\n",
    "        score = silhouette_score(X_resampled, preds)\n",
    "        scores.append(score)\n",
    "    MD_b28.append(scores)"
   ]
  },
  {
   "cell_type": "code",
   "execution_count": 30,
   "id": "e3672413",
   "metadata": {},
   "outputs": [
    {
     "data": {
      "image/png": "[encoded data removed]",
      "text/plain": [
       "<Figure size 432x288 with 1 Axes>"
      ]
     },
     "metadata": {
      "needs_background": "light"
     },
     "output_type": "display_data"
    }
   ],
   "source": [
    "kmeans = MD_km28[2]\n",
    "preds = kmeans.predict(MD_x)\n",
    "\n",
    "plt.hist(MD_x[preds == 3], bins = 30, range = (0,1))\n",
    "plt.xlim(0,1)\n",
    "plt.xlabel(\"Feature values\")\n",
    "plt.ylabel(\"Frequency\")\n",
    "plt.title(\"Histogram of feature values in cluster 4\")\n",
    "plt.show()\n"
   ]
  },
  {
   "cell_type": "code",
   "execution_count": 35,
   "id": "de6b7c45",
   "metadata": {},
   "outputs": [],
   "source": [
    "kmeans = MD_km28[2]\n",
    "preds = kmeans.predict(MD_x)\n",
    "MD_k4 = MD_x[preds == 3]\n"
   ]
  },
  {
   "cell_type": "code",
   "execution_count": null,
   "id": "bbea32cf",
   "metadata": {},
   "outputs": [],
   "source": []
  }
 ],
 "metadata": {
  "kernelspec": {
   "display_name": "Python 3 (ipykernel)",
   "language": "python",
   "name": "python3"
  },
  "language_info": {
   "codemirror_mode": {
    "name": "ipython",
    "version": 3
   },
   "file_extension": ".py",
   "mimetype": "text/x-python",
   "name": "python",
   "nbconvert_exporter": "python",
   "pygments_lexer": "ipython3",
   "version": "3.9.12"
  }
 },
 "nbformat": 4,
 "nbformat_minor": 5
}
